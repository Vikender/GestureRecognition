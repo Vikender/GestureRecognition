{
 "cells": [
  {
   "cell_type": "markdown",
   "metadata": {},
   "source": [
    "# Gesture Recognition\n",
    "In this group project, you are going to build a 3D Conv model that will be able to predict the 5 gestures correctly. Please import the following libraries to get started."
   ]
  },
  {
   "cell_type": "code",
   "execution_count": 1,
   "metadata": {},
   "outputs": [],
   "source": [
    "import numpy as np\n",
    "import os\n",
    "from scipy.misc import imresize\n",
    "from imageio import imread\n",
    "import datetime\n",
    "import os\n"
   ]
  },
  {
   "cell_type": "markdown",
   "metadata": {},
   "source": [
    "We set the random seed so that the results don't vary drastically."
   ]
  },
  {
   "cell_type": "code",
   "execution_count": 2,
   "metadata": {},
   "outputs": [
    {
     "name": "stderr",
     "output_type": "stream",
     "text": [
      "Using TensorFlow backend.\n"
     ]
    }
   ],
   "source": [
    "np.random.seed(30)\n",
    "import random as rn\n",
    "rn.seed(30)\n",
    "from keras import backend as K\n",
    "import tensorflow as tf\n",
    "tf.set_random_seed(30)\n",
    "from skimage.transform import rescale\n"
   ]
  },
  {
   "cell_type": "markdown",
   "metadata": {},
   "source": [
    "In this block, you read the folder names for training and validation. You also set the `batch_size` here. Note that you set the batch size in such a way that you are able to use the GPU in full capacity. You keep increasing the batch size until the machine throws an error."
   ]
  },
  {
   "cell_type": "code",
   "execution_count": 3,
   "metadata": {},
   "outputs": [],
   "source": [
    "train_doc = np.random.permutation(open('.//Project_data/train.csv').readlines())\n",
    "val_doc = np.random.permutation(open('.//Project_data/val.csv').readlines())\n",
    "batch_size = 50"
   ]
  },
  {
   "cell_type": "markdown",
   "metadata": {},
   "source": [
    "## Generator\n",
    "This is one of the most important part of the code. The overall structure of the generator has been given. In the generator, you are going to preprocess the images as you have images of 2 different dimensions as well as create a batch of video frames. You have to experiment with `img_idx`, `y`,`z` and normalization such that you get high accuracy."
   ]
  },
  {
   "cell_type": "code",
   "execution_count": 4,
   "metadata": {},
   "outputs": [],
   "source": [
    "img_idx = 15 # no of frame in each video\n",
    "img_row = 100 # no to row of reshaping\n",
    "img_col = 100 # no to column of reshaping"
   ]
  },
  {
   "cell_type": "code",
   "execution_count": 5,
   "metadata": {},
   "outputs": [],
   "source": [
    "def generator(source_path, folder_list, batch_size):\n",
    "    print( 'Source path = ', source_path, '; batch size =', batch_size, '; length folder_list = ',len(folder_list))\n",
    "    while True:\n",
    "        t = np.random.permutation(folder_list)\n",
    "        num_batches = len(t)//batch_size\n",
    "        for batch in range(num_batches): # we iterate over the number of batches\n",
    "            batch_data = np.zeros((batch_size,img_idx,img_row,img_col,3)) # x is the number of images you use for each video, (y,z) is the final size of the input images and 3 is the number of channels RGB\n",
    "            batch_labels = np.zeros((batch_size,5)) # batch_labels is the one hot representation of the output\n",
    "            for folder in range(batch_size): # iterate over the batch_size\n",
    "                imgs = os.listdir(source_path+'/'+ t[folder + (batch*batch_size)].split(';')[0]) # read all the images in the folder\n",
    "                for idx in range(img_idx): #  Iterate iver the frames/images of a folder to read them in\n",
    "                    \n",
    "                    image = imread(source_path+'/'+ t[folder + (batch*batch_size)].strip().split(';')[0]+'/'+imgs[idx*2]).astype(np.float32)\n",
    "                    #crop the images and resize them. Note that the images are of 2 different shape \n",
    "                    #and the conv3D will throw error if the inputs in a batch have different shapes\n",
    "                    image =rescale(image, [100/image.shape[0],100/image.shape[1]],multichannel=True, mode='constant')\n",
    "                    \n",
    "                    batch_data[folder,idx,:,:,0] = image[:, : , 0]/255 #normalise and feed in the image\n",
    "                    batch_data[folder,idx,:,:,1] = image[:, : , 1]/255 #normalise and feed in the image\n",
    "                    batch_data[folder,idx,:,:,2] = image[:, : , 2]/255 #normalise and feed in the image\n",
    "                    \n",
    "                batch_labels[folder, int(t[folder + (batch*batch_size)].strip().split(';')[2])] = 1\n",
    "\n",
    "            yield batch_data, batch_labels #you yield the batch_data and the batch_labels, remember what does yield do\n",
    "\n",
    "        \n",
    "        # write the code for the remaining data points which are left after full batches\n",
    "        remaining_data=len(folder_list)-(num_batches*batch_size)\n",
    "        if(remaining_data>0):\n",
    "            batch_data = np.zeros((remaining_data,img_idx,img_row,img_col,3)) # x is the number of images you use for each video, (y,z) is the final size of the input images and 3 is the number of channels RGB\n",
    "            batch_labels = np.zeros((remaining_data,5)) # batch_labels is the one hot representation of the output\n",
    "            for folder in range(remaining_data): # iterate over the batch_size\n",
    "                imgs = os.listdir(source_path+'/'+ t[folder + (num_batches*batch_size)].split(';')[0]) # read all the images in the folder\n",
    "                for idx in range(img_idx): #  Iterate iver the frames/images of a folder to read them in\n",
    "                    \n",
    "                    image = imread(source_path+'/'+ t[folder + (num_batches*batch_size)].strip().split(';')[0]+'/'+imgs[idx*2]).astype(np.float32)\n",
    "                    image =rescale(image, [100/image.shape[0],100/image.shape[1]],multichannel=True, mode='constant')\n",
    "                    \n",
    "                    batch_data[folder,idx,:,:,0] = image[:, : , 0]/255 #normalise and feed in the image\n",
    "                    batch_data[folder,idx,:,:,1] = image[:, : , 1]/255 #normalise and feed in the image\n",
    "                    batch_data[folder,idx,:,:,2] = image[:, : , 2]/255 #normalise and feed in the image\n",
    "                    \n",
    "                batch_labels[folder, int(t[folder + (batch*batch_size)].strip().split(';')[2])] = 1\n",
    "\n",
    "            yield batch_data, batch_labels\n",
    "        \n"
   ]
  },
  {
   "cell_type": "markdown",
   "metadata": {},
   "source": [
    "Note here that a video is represented above in the generator as (number of images, height, width, number of channels). Take this into consideration while creating the model architecture."
   ]
  },
  {
   "cell_type": "code",
   "execution_count": 6,
   "metadata": {},
   "outputs": [
    {
     "name": "stdout",
     "output_type": "stream",
     "text": [
      "# training sequences = 663\n",
      "# validation sequences = 100\n",
      "# epochs = 8\n"
     ]
    }
   ],
   "source": [
    "curr_dt_time = datetime.datetime.now()\n",
    "train_path = './/Project_data/train'\n",
    "val_path = './/Project_data/val'\n",
    "num_train_sequences = len(train_doc)\n",
    "print('# training sequences =', num_train_sequences)\n",
    "num_val_sequences = len(val_doc)\n",
    "print('# validation sequences =', num_val_sequences)\n",
    "num_epochs = 8 # choose the number of epochs\n",
    "print ('# epochs =', num_epochs)"
   ]
  },
  {
   "cell_type": "markdown",
   "metadata": {},
   "source": [
    "## Model\n",
    "Here you make the model using different functionalities that Keras provides. Remember to use `Conv3D` and `MaxPooling3D` and not `Conv2D` and `Maxpooling2D` for a 3D convolution model. You would want to use `TimeDistributed` while building a Conv2D + RNN model. Also remember that the last layer is the softmax. Design the network in such a way that the model is able to give good accuracy on the least number of parameters so that it can fit in the memory of the webcam."
   ]
  },
  {
   "cell_type": "code",
   "execution_count": 7,
   "metadata": {},
   "outputs": [],
   "source": [
    "from keras.models import Sequential, Model\n",
    "from keras.layers import Dense, GRU, Flatten, TimeDistributed, Flatten, BatchNormalization, Activation\n",
    "from keras.layers.convolutional import Conv3D, MaxPooling3D\n",
    "from keras.callbacks import ModelCheckpoint, ReduceLROnPlateau\n",
    "from keras import optimizers\n",
    "\n",
    "\n",
    "\n",
    "model = Sequential()\n",
    "model.add(Conv3D(32,strides=(1, 1, 1),padding='same', kernel_size=(2,2,2),activation='relu',input_shape=(img_idx, img_row, img_col, 3)))\n",
    "model.add(Conv3D(32,strides=(1, 1, 1),padding='same', kernel_size=(2,2,2),activation='relu'))\n",
    "model.add(MaxPooling3D(pool_size=(2, 2, 2)))\n",
    "model.add(Conv3D(64,strides=(1, 1, 1),padding='same', kernel_size=(2,2,2),activation='relu'))\n",
    "model.add(Conv3D(128,strides=(1, 1, 1),padding='same', kernel_size=(2,2,2),activation='relu'))\n",
    "model.add(MaxPooling3D(pool_size=(2, 2, 2)))\n",
    "model.add(Flatten())\n",
    "model.add(Dense(128, activation='relu'))\n",
    "model.add(Dense(5, activation='softmax'))\n"
   ]
  },
  {
   "cell_type": "markdown",
   "metadata": {},
   "source": [
    "Now that you have written the model, the next step is to `compile` the model. When you print the `summary` of the model, you'll see the total number of parameters you have to train."
   ]
  },
  {
   "cell_type": "code",
   "execution_count": 8,
   "metadata": {
    "scrolled": true
   },
   "outputs": [
    {
     "name": "stdout",
     "output_type": "stream",
     "text": [
      "_________________________________________________________________\n",
      "Layer (type)                 Output Shape              Param #   \n",
      "=================================================================\n",
      "conv3d_1 (Conv3D)            (None, 15, 100, 100, 32)  800       \n",
      "_________________________________________________________________\n",
      "conv3d_2 (Conv3D)            (None, 15, 100, 100, 32)  8224      \n",
      "_________________________________________________________________\n",
      "max_pooling3d_1 (MaxPooling3 (None, 7, 50, 50, 32)     0         \n",
      "_________________________________________________________________\n",
      "conv3d_3 (Conv3D)            (None, 7, 50, 50, 64)     16448     \n",
      "_________________________________________________________________\n",
      "conv3d_4 (Conv3D)            (None, 7, 50, 50, 128)    65664     \n",
      "_________________________________________________________________\n",
      "max_pooling3d_2 (MaxPooling3 (None, 3, 25, 25, 128)    0         \n",
      "_________________________________________________________________\n",
      "flatten_1 (Flatten)          (None, 240000)            0         \n",
      "_________________________________________________________________\n",
      "dense_1 (Dense)              (None, 128)               30720128  \n",
      "_________________________________________________________________\n",
      "dense_2 (Dense)              (None, 5)                 645       \n",
      "=================================================================\n",
      "Total params: 30,811,909\n",
      "Trainable params: 30,811,909\n",
      "Non-trainable params: 0\n",
      "_________________________________________________________________\n",
      "None\n"
     ]
    }
   ],
   "source": [
    "optimiser = 'SGD'\n",
    "model.compile(optimizer=optimiser, loss='categorical_crossentropy', metrics=['categorical_accuracy'])\n",
    "print (model.summary())"
   ]
  },
  {
   "cell_type": "markdown",
   "metadata": {},
   "source": [
    "Let us create the `train_generator` and the `val_generator` which will be used in `.fit_generator`."
   ]
  },
  {
   "cell_type": "code",
   "execution_count": 9,
   "metadata": {},
   "outputs": [],
   "source": [
    "train_generator = generator(train_path, train_doc, batch_size)\n",
    "val_generator = generator(val_path, val_doc, batch_size)"
   ]
  },
  {
   "cell_type": "code",
   "execution_count": 10,
   "metadata": {},
   "outputs": [],
   "source": [
    "model_name = 'model_init' + '_' + str(curr_dt_time).replace(' ','').replace(':','_') + '/'\n",
    "    \n",
    "if not os.path.exists(model_name):\n",
    "    os.mkdir(model_name)\n",
    "        \n",
    "filepath = model_name + 'model-{epoch:05d}-{loss:.5f}-{categorical_accuracy:.5f}-{val_loss:.5f}-{val_categorical_accuracy:.5f}.h5'\n",
    "\n",
    "checkpoint = ModelCheckpoint(filepath, monitor='val_loss', verbose=1, save_best_only=False, save_weights_only=False, mode='auto', period=1)\n",
    "\n",
    "LR = ReduceLROnPlateau(monitor='val_loss', factor=0.2, patience=3, min_lr=0.001)\n",
    "callbacks_list = [checkpoint, LR]"
   ]
  },
  {
   "cell_type": "markdown",
   "metadata": {},
   "source": [
    "The `steps_per_epoch` and `validation_steps` are used by `fit_generator` to decide the number of next() calls it need to make."
   ]
  },
  {
   "cell_type": "code",
   "execution_count": 11,
   "metadata": {},
   "outputs": [],
   "source": [
    "if (num_train_sequences%batch_size) == 0:\n",
    "    steps_per_epoch = int(num_train_sequences/batch_size)\n",
    "else:\n",
    "    steps_per_epoch = (num_train_sequences//batch_size) + 1\n",
    "\n",
    "if (num_val_sequences%batch_size) == 0:\n",
    "    validation_steps = int(num_val_sequences/batch_size)\n",
    "else:\n",
    "    validation_steps = (num_val_sequences//batch_size) + 1\n",
    "    \n"
   ]
  },
  {
   "cell_type": "markdown",
   "metadata": {},
   "source": [
    "Let us now fit the model. This will start training the model and with the help of the checkpoints, you'll be able to save the model at the end of each epoch."
   ]
  },
  {
   "cell_type": "code",
   "execution_count": 12,
   "metadata": {},
   "outputs": [
    {
     "name": "stdout",
     "output_type": "stream",
     "text": [
      "Source path =  .//Project_data/val ; batch size = 50 ; length folder_list =  100\n",
      "Source path =  .//Project_data/train ; batch size = 50 ; length folder_list =  663\n",
      "Epoch 1/8\n"
     ]
    },
    {
     "name": "stderr",
     "output_type": "stream",
     "text": [
      "/mnt/disks/user/anaconda3/lib/python3.6/site-packages/skimage/transform/_warps.py:110: UserWarning: Anti-aliasing will be enabled by default in skimage 0.15 to avoid aliasing artifacts when down-sampling images.\n",
      "  warn(\"Anti-aliasing will be enabled by default in skimage 0.15 to \"\n"
     ]
    },
    {
     "name": "stdout",
     "output_type": "stream",
     "text": [
      "14/14 [==============================] - 96s 7s/step - loss: 1.6068 - categorical_accuracy: 0.2164 - val_loss: 1.5807 - val_categorical_accuracy: 0.1700\n",
      "\n",
      "Epoch 00001: saving model to model_init_2019-09-1818_46_22.773935/model-00001-1.60791-0.21569-1.58073-0.17000.h5\n",
      "Epoch 2/8\n",
      "14/14 [==============================] - 62s 4s/step - loss: 1.5814 - categorical_accuracy: 0.2670 - val_loss: 1.6416 - val_categorical_accuracy: 0.2300\n",
      "\n",
      "Epoch 00002: saving model to model_init_2019-09-1818_46_22.773935/model-00002-1.58306-0.24887-1.64163-0.23000.h5\n",
      "Epoch 3/8\n",
      "14/14 [==============================] - 64s 5s/step - loss: 1.5718 - categorical_accuracy: 0.2557 - val_loss: 1.5943 - val_categorical_accuracy: 0.2700\n",
      "\n",
      "Epoch 00003: saving model to model_init_2019-09-1818_46_22.773935/model-00003-1.57137-0.26094-1.59427-0.27000.h5\n",
      "Epoch 4/8\n",
      "14/14 [==============================] - 64s 5s/step - loss: 1.5588 - categorical_accuracy: 0.3106 - val_loss: 1.5357 - val_categorical_accuracy: 0.2800\n",
      "\n",
      "Epoch 00004: saving model to model_init_2019-09-1818_46_22.773935/model-00004-1.55263-0.31071-1.53570-0.28000.h5\n",
      "Epoch 5/8\n",
      "14/14 [==============================] - 60s 4s/step - loss: 1.5354 - categorical_accuracy: 0.2972 - val_loss: 1.5409 - val_categorical_accuracy: 0.4000\n",
      "\n",
      "Epoch 00005: saving model to model_init_2019-09-1818_46_22.773935/model-00005-1.52646-0.30468-1.54086-0.40000.h5\n",
      "Epoch 6/8\n",
      "14/14 [==============================] - 60s 4s/step - loss: 1.4854 - categorical_accuracy: 0.3813 - val_loss: 1.5740 - val_categorical_accuracy: 0.2900\n",
      "\n",
      "Epoch 00006: saving model to model_init_2019-09-1818_46_22.773935/model-00006-1.47893-0.38914-1.57398-0.29000.h5\n",
      "Epoch 7/8\n",
      "14/14 [==============================] - 56s 4s/step - loss: 1.4805 - categorical_accuracy: 0.3526 - val_loss: 1.5868 - val_categorical_accuracy: 0.2800\n",
      "\n",
      "Epoch 00007: saving model to model_init_2019-09-1818_46_22.773935/model-00007-1.46424-0.35897-1.58675-0.28000.h5\n",
      "Epoch 8/8\n",
      "14/14 [==============================] - 62s 4s/step - loss: 1.4478 - categorical_accuracy: 0.4176 - val_loss: 1.4434 - val_categorical_accuracy: 0.3900\n",
      "\n",
      "Epoch 00008: saving model to model_init_2019-09-1818_46_22.773935/model-00008-1.42681-0.41931-1.44339-0.39000.h5\n"
     ]
    },
    {
     "data": {
      "text/plain": [
       "<keras.callbacks.History at 0x7f7bc2d6fc18>"
      ]
     },
     "execution_count": 12,
     "metadata": {},
     "output_type": "execute_result"
    }
   ],
   "source": [
    "model.fit_generator(train_generator, steps_per_epoch=steps_per_epoch, epochs=num_epochs, verbose=1, \n",
    "                    callbacks=callbacks_list, validation_data=val_generator,\n",
    "                    validation_steps=validation_steps, class_weight=None, workers=1, initial_epoch=0)"
   ]
  },
  {
   "cell_type": "code",
   "execution_count": null,
   "metadata": {},
   "outputs": [],
   "source": []
  },
  {
   "cell_type": "code",
   "execution_count": null,
   "metadata": {},
   "outputs": [],
   "source": []
  }
 ],
 "metadata": {
  "kernelspec": {
   "display_name": "Python 3",
   "language": "python",
   "name": "python3"
  },
  "language_info": {
   "codemirror_mode": {
    "name": "ipython",
    "version": 3
   },
   "file_extension": ".py",
   "mimetype": "text/x-python",
   "name": "python",
   "nbconvert_exporter": "python",
   "pygments_lexer": "ipython3",
   "version": "3.6.8"
  }
 },
 "nbformat": 4,
 "nbformat_minor": 2
}
